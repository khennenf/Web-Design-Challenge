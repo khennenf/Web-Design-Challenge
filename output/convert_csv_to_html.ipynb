{
 "cells": [
  {
   "cell_type": "code",
   "execution_count": 9,
   "metadata": {},
   "outputs": [],
   "source": [
    "import pandas as pd"
   ]
  },
  {
   "cell_type": "code",
   "execution_count": 10,
   "metadata": {},
   "outputs": [],
   "source": [
    "for_html = \"Weather_Output.csv\""
   ]
  },
  {
   "cell_type": "code",
   "execution_count": 11,
   "metadata": {},
   "outputs": [],
   "source": [
    "to_df = pd.read_csv(for_html)"
   ]
  },
  {
   "cell_type": "code",
   "execution_count": 12,
   "metadata": {},
   "outputs": [
    {
     "data": {
      "text/html": [
       "<div>\n",
       "<style scoped>\n",
       "    .dataframe tbody tr th:only-of-type {\n",
       "        vertical-align: middle;\n",
       "    }\n",
       "\n",
       "    .dataframe tbody tr th {\n",
       "        vertical-align: top;\n",
       "    }\n",
       "\n",
       "    .dataframe thead th {\n",
       "        text-align: right;\n",
       "    }\n",
       "</style>\n",
       "<table border=\"1\" class=\"dataframe\">\n",
       "  <thead>\n",
       "    <tr style=\"text-align: right;\">\n",
       "      <th></th>\n",
       "      <th>City_ID</th>\n",
       "      <th>City</th>\n",
       "      <th>Lat</th>\n",
       "      <th>Lng</th>\n",
       "      <th>Max Temp</th>\n",
       "      <th>Humidity</th>\n",
       "      <th>Cloudiness</th>\n",
       "      <th>Wind Speed</th>\n",
       "      <th>Country</th>\n",
       "      <th>Date</th>\n",
       "    </tr>\n",
       "  </thead>\n",
       "  <tbody>\n",
       "    <tr>\n",
       "      <th>0</th>\n",
       "      <td>0</td>\n",
       "      <td>Punta Arenas</td>\n",
       "      <td>-53.1500</td>\n",
       "      <td>-70.9167</td>\n",
       "      <td>48.20</td>\n",
       "      <td>61</td>\n",
       "      <td>0</td>\n",
       "      <td>16.11</td>\n",
       "      <td>CL</td>\n",
       "      <td>1/30/2021</td>\n",
       "    </tr>\n",
       "    <tr>\n",
       "      <th>1</th>\n",
       "      <td>1</td>\n",
       "      <td>Hobart</td>\n",
       "      <td>-42.8794</td>\n",
       "      <td>147.3294</td>\n",
       "      <td>77.00</td>\n",
       "      <td>53</td>\n",
       "      <td>75</td>\n",
       "      <td>13.80</td>\n",
       "      <td>AU</td>\n",
       "      <td>1/30/2021</td>\n",
       "    </tr>\n",
       "    <tr>\n",
       "      <th>2</th>\n",
       "      <td>2</td>\n",
       "      <td>Kālol</td>\n",
       "      <td>22.6000</td>\n",
       "      <td>73.4500</td>\n",
       "      <td>59.00</td>\n",
       "      <td>82</td>\n",
       "      <td>0</td>\n",
       "      <td>4.61</td>\n",
       "      <td>IN</td>\n",
       "      <td>1/30/2021</td>\n",
       "    </tr>\n",
       "    <tr>\n",
       "      <th>3</th>\n",
       "      <td>3</td>\n",
       "      <td>Asău</td>\n",
       "      <td>46.4333</td>\n",
       "      <td>26.4000</td>\n",
       "      <td>34.00</td>\n",
       "      <td>74</td>\n",
       "      <td>100</td>\n",
       "      <td>1.32</td>\n",
       "      <td>RO</td>\n",
       "      <td>1/30/2021</td>\n",
       "    </tr>\n",
       "    <tr>\n",
       "      <th>4</th>\n",
       "      <td>4</td>\n",
       "      <td>Faanui</td>\n",
       "      <td>-16.4833</td>\n",
       "      <td>-151.7500</td>\n",
       "      <td>81.64</td>\n",
       "      <td>64</td>\n",
       "      <td>3</td>\n",
       "      <td>4.07</td>\n",
       "      <td>PF</td>\n",
       "      <td>1/30/2021</td>\n",
       "    </tr>\n",
       "  </tbody>\n",
       "</table>\n",
       "</div>"
      ],
      "text/plain": [
       "   City_ID          City      Lat       Lng  Max Temp  Humidity  Cloudiness  \\\n",
       "0        0  Punta Arenas -53.1500  -70.9167     48.20        61           0   \n",
       "1        1        Hobart -42.8794  147.3294     77.00        53          75   \n",
       "2        2         Kālol  22.6000   73.4500     59.00        82           0   \n",
       "3        3          Asău  46.4333   26.4000     34.00        74         100   \n",
       "4        4        Faanui -16.4833 -151.7500     81.64        64           3   \n",
       "\n",
       "   Wind Speed Country       Date  \n",
       "0       16.11      CL  1/30/2021  \n",
       "1       13.80      AU  1/30/2021  \n",
       "2        4.61      IN  1/30/2021  \n",
       "3        1.32      RO  1/30/2021  \n",
       "4        4.07      PF  1/30/2021  "
      ]
     },
     "execution_count": 12,
     "metadata": {},
     "output_type": "execute_result"
    }
   ],
   "source": [
    "to_df.head()"
   ]
  },
  {
   "cell_type": "code",
   "execution_count": 15,
   "metadata": {},
   "outputs": [],
   "source": [
    "for_table = to_df.to_html(\"for_table_no_index.html\", index=False)"
   ]
  },
  {
   "cell_type": "code",
   "execution_count": null,
   "metadata": {},
   "outputs": [],
   "source": []
  }
 ],
 "metadata": {
  "kernelspec": {
   "display_name": "Python 3",
   "language": "python",
   "name": "python3"
  },
  "language_info": {
   "codemirror_mode": {
    "name": "ipython",
    "version": 3
   },
   "file_extension": ".py",
   "mimetype": "text/x-python",
   "name": "python",
   "nbconvert_exporter": "python",
   "pygments_lexer": "ipython3",
   "version": "3.8.5"
  }
 },
 "nbformat": 4,
 "nbformat_minor": 4
}
